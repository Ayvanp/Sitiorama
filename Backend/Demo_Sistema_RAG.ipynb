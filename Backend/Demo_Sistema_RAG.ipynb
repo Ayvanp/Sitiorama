{
 "cells": [
  {
   "cell_type": "markdown",
   "id": "aac29a2c-eb6e-4b2b-bbb0-c3d97a0cd841",
   "metadata": {},
   "source": [
    "## Demo: Sistema RAG"
   ]
  },
  {
   "cell_type": "code",
   "execution_count": 1,
   "id": "2c6edac6-6e91-4fd7-8260-b7de343e2b58",
   "metadata": {},
   "outputs": [
    {
     "name": "stderr",
     "output_type": "stream",
     "text": [
      "c:\\Users\\nicoa\\miniconda3\\envs\\sitiorama_api\\lib\\site-packages\\tqdm\\auto.py:21: TqdmWarning: IProgress not found. Please update jupyter and ipywidgets. See https://ipywidgets.readthedocs.io/en/stable/user_install.html\n",
      "  from .autonotebook import tqdm as notebook_tqdm\n"
     ]
    }
   ],
   "source": [
    "# ChromaDB\n",
    "import chromadb\n",
    "client = chromadb.Client()\n",
    "client = chromadb.PersistentClient(path=\".\")\n",
    "\n",
    "# Pandas\n",
    "import pandas as pd\n",
    "\n",
    "#Transformers\n",
    "from transformers import AutoTokenizer, AutoModelForSequenceClassification\n",
    "from transformers import pipeline\n",
    "from sentence_transformers import SentenceTransformer\n",
    "#Otros\n",
    "import openai\n",
    "import os\n",
    "from PyPDF2 import PdfReader\n",
    "\n",
    "#Langchain\n",
    "from langchain.text_splitter import CharacterTextSplitter\n",
    "from langchain.text_splitter import RecursiveCharacterTextSplitter\n",
    "\n",
    "from langchain.vectorstores import Chroma\n",
    "from langchain.embeddings import OpenAIEmbeddings\n",
    "from langchain.chat_models import ChatOpenAI\n",
    "from langchain.prompts import ChatPromptTemplate, MessagesPlaceholder\n",
    "from langchain.chains import LLMChain\n",
    "from langchain.schema import BaseOutputParser\n",
    "import uuid  # Para generar un ID único para cada fragmento"
   ]
  },
  {
   "cell_type": "code",
   "execution_count": null,
   "id": "b7fda14c-f6b5-427f-80fe-faae068b3113",
   "metadata": {},
   "outputs": [],
   "source": [
    "api_key = \"xd\""
   ]
  },
  {
   "cell_type": "markdown",
   "id": "a51528a2-1c01-4072-950c-da09c11e64d5",
   "metadata": {},
   "source": [
    "## Leer la carpeta de PDF e indexar su contenido en Base de datos vectoriales"
   ]
  },
  {
   "cell_type": "code",
   "execution_count": 3,
   "id": "d4da63b7-3b54-4b44-9709-bf7d1e3c84c0",
   "metadata": {},
   "outputs": [
    {
     "name": "stderr",
     "output_type": "stream",
     "text": [
      "C:\\Users\\nicoa\\AppData\\Local\\Temp\\ipykernel_14208\\1481984706.py:11: LangChainDeprecationWarning: The class `OpenAIEmbeddings` was deprecated in LangChain 0.0.9 and will be removed in 1.0. An updated version of the class exists in the :class:`~langchain-openai package and should be used instead. To use it run `pip install -U :class:`~langchain-openai` and import as `from :class:`~langchain_openai import OpenAIEmbeddings``.\n",
      "  embeddings = OpenAIEmbeddings(openai_api_key=api_key)  # Asumiendo que estás usando OpenAI para obtener embeddings\n"
     ]
    }
   ],
   "source": [
    "# Ruta a la carpeta que contiene los archivos PDF\n",
    "folder_path = 'PDF_pruebas'\n",
    "\n",
    "# Obtener la lista de archivos en la carpeta\n",
    "pdf_files = [f for f in os.listdir(folder_path) if f.endswith('.pdf')]\n",
    "\n",
    "# Crear un \"splitter\" con un tamaño de chunk más pequeño\n",
    "splitter = RecursiveCharacterTextSplitter(chunk_size=1000, chunk_overlap=200)\n",
    "\n",
    "# Inicializar la base de datos ChromaDB\n",
    "embeddings = OpenAIEmbeddings(openai_api_key=api_key)  # Asumiendo que estás usando OpenAI para obtener embeddings\n",
    "\n",
    "# Nombre de la colección en ChromaDB\n",
    "collection_name = \"pruebas_sitiorama\"\n",
    "\n",
    "# Leer el contenido de cada archivo PDF y indexarlo\n",
    "all_texts = []  # Lista para almacenar todos los fragmentos de texto\n",
    "all_metadatas = []  # Lista para almacenar los metadatos (archivo origen)\n",
    "all_ids = []  # Lista para almacenar los IDs"
   ]
  },
  {
   "cell_type": "code",
   "execution_count": 4,
   "id": "5b946826-3e0b-4ba5-a544-63a0bf6188d9",
   "metadata": {},
   "outputs": [],
   "source": [
    "import re\n",
    "\n",
    "for pdf_file in pdf_files:\n",
    "    pdf_path = os.path.join(folder_path, pdf_file)\n",
    "    with open(pdf_path, 'rb') as file:\n",
    "        reader = PdfReader(file)\n",
    "        text = \"\"\n",
    "        # Extraer el texto de todas las páginas\n",
    "        for page in reader.pages:\n",
    "            text += page.extract_text()\n",
    "\n",
    "        # Eliminar saltos de línea innecesarios\n",
    "        text = re.sub(r'\\n+', ' ', text)  # Sustituye saltos de línea por un espacio\n",
    "        # Eliminar espacios adicionales\n",
    "        text = re.sub(r'\\s+', ' ', text)  # Reemplaza múltiples espacios por uno solo\n",
    "        # Eliminar espacios antes de los signos de puntuación (si es necesario)\n",
    "        text = re.sub(r'\\s([?.!,¿])', r'\\1', text)\n",
    "        # Opcional: eliminar espacios al inicio o final\n",
    "        text = text.strip()        \n",
    "        # Dividir el texto en fragmentos manejables\n",
    "        chunks = splitter.split_text(text)\n",
    "\n",
    "        # Crear un ID único para cada fragmento\n",
    "        ids = [str(uuid.uuid4()) for _ in range(len(chunks))]\n",
    "        \n",
    "        # Agregar los fragmentos, metadatos e IDs a las listas\n",
    "        all_texts.extend(chunks)\n",
    "        all_metadatas.extend([{\"source\": pdf_file}] * len(chunks))\n",
    "        all_ids.extend(ids)\n",
    "\n",
    "# Inicializar Chroma con los documentos\n",
    "db = Chroma.from_texts(all_texts, embeddings, metadatas=all_metadatas, ids=all_ids, collection_name=collection_name)"
   ]
  },
  {
   "cell_type": "markdown",
   "id": "a7467092-6849-4276-95cf-494d7a041d42",
   "metadata": {},
   "source": [
    "## Preguntas a Chroma DB"
   ]
  },
  {
   "cell_type": "code",
   "execution_count": 8,
   "id": "edeb49b0-517c-4fde-b5f1-8679ba9e13b4",
   "metadata": {},
   "outputs": [
    {
     "name": "stdout",
     "output_type": "stream",
     "text": [
      "Resultados para la consulta 'Si quiero ir para miraflores que micro debo tomar?':\n",
      "page_content='urbano de forma exitosa. Con el fin de apoyar el proyecto de transporte público fluvial y consolidar a este modo se está implementando una red de muelles o puntos de embarque. Con fondos de la Subsecretaría de Desarrollo Regional y Administrativo se es - tán construyendo seis muelles públicos, ubica - dos en La Peña, Los Castaños, Carampangue, Collico, terminal de buses en el recinto de vialidad bajo el puente Calle-Calle. Estas obras están destinadas a apoyar la incorporación de “taxis fluviales” con tecnología sostenible como un nuevo modo de transporte público. El costo de inversión es de $249.000.000, financiados por PMU y MTT.cas con la concesión realizada en Santiago, a 15 años plazo, denominada Estaciones de Trans - bordo para Transantiago, que consiste básica - mente en que se selecciona una concesionaria privada para la construcción, mantenimiento y explotación de andenes y refugios, pasos peatonales a nivel, iluminación e instalación eléctrica, obras de drenaje de aguas' metadata={'source': 'PLAN+DE+VALDIVIA+27-05.pdf'}\n",
      "page_content='cierto punto; pero ja- más podré persuadirme que no le convenga a una nación llamada, como Chile, a ser marítima por su posición jeográfica, el conservar un reparo donde pueda n guarecerse con alguna seguridad sus bu- ques en caso de una guerra. Creo, por el contrario, que, mientras mas avance la marina chilena, tanto mas se sentirá haber dejado con tanta inercia destruirse unos baluartes cuya construcción ha costado tantos miles a la España. — 2 — «El día 3 me puse en marcha para esta ciudad, admirando los bellos paisajes que el rio nos presentaba a cada paso. ¡Qué espectá- culo para un santiaguino, acostumbrado a ver las márjenes del pequeño arroyo del Mapocho, el de este importante rio con sus ri- beras cubiertas de bosques, i que parece estar llamando la pobla- ción i el comercio! A cada instan te estiende uno la vista por sus recodos, esperando que se le presente alguna bella alquería; pero esta esperanza es inútil; i apenas si una o dos miserables cabañas interrumpen el verde' metadata={'source': '983.5SAN1925.pdf'}\n",
      "page_content='principal será el borde del río e incluirá puntos de acceso al paisaje, centros de actividad y sitios de inte- rés histórico-patrimonial. Una red integrada de ciclovías es un elemento clave para incentivar un mayor uso de la bicicleta y la planificación de una movilidad urbana más sostenible en Valdivia. La Comisión de Planificación de Inversiones en Infraestructura de Transporte (SECTRA) posee en cartera un programa de 25 kilómet - ros lineales que es complementario al progra - ma del MOP y MINVU. Se plantea un costo de construcción de entre $100 millones a $150 millones por kilómetro. Un riesgo importante son las expropiaciones necesarias que se de - ben realizar para poder realizar las inversiones, considerando un perfil que permita incluir las ciclovías y el desfase de tiempo existente entre el diseño de esta red y las nuevos estándares recomendados para este tipo de proyectos por palidad, SECTRA, MOP y MINVU, que ya están desarrollando proyectos de infraestructura para' metadata={'source': 'PLAN+DE+VALDIVIA+27-05.pdf'}\n",
      "page_content='costo de inversión es de 82.685 UF. El proyecto cuenta con financiamiento de los fondos espejo del Transantiago. La unidad re - sponsable son el MOP y el MINVU.El objeto de las intervenciones es que sean incrementales, así como la preocupación y el debate por parte de los ciudadanos, del papel de los espacios públicos en la regeneración de un tejido urbano. Ya han sido implementadas, con el impulso de Activa Valdivia (oficina técnica de CVS) inter - venciones como un Cubo de ideas, un park - ing-day en calle O´Higgins, un Miniparque62 (parklet) y una Plaza Activa63. Algunas de estas intervenciones buscan ser parte de un pro - grama municipal, y otras en futuros proyectos permanentes. En el proceso de la intervención temporal, se recoge opinión respecto del cómo debiera ser ese lugar, se retroalimenta y per - mite dar paso a un diseño participativo y por tanto más pertinente. Acción 4.3.1 Desarrollo e implementación de activaciones en espacios subutilizados En el caso de los' metadata={'source': 'PLAN+DE+VALDIVIA+27-05.pdf'}\n",
      "page_content='sus mayores atrib - utos urbanos. La idea es realizar un diagnóstico de la situación actual y un análisis comparativo técnico-económico contra posibles alternativas de solución, para a partir de allí superponer esfuerzos con el Ministerio de Transporte y Telecomunicaciones (MTT). Acción 1.1.11 Paraderos exclusivos para el transporte públi - co mayor El nuevo sistema planteará un desafío para la Municipalidad de Valdivia con el objetivo de avanzar en la implementación de paraderos ex - clusivos para el sistema de transporte público urbano mayor. Esta iniciativa tiene dos alter - nativas de ejecución. La primera de ellas es la ejecución con fondos del sector público y que involucra la construcción por parte del con - tratista privado y luego el mantenimiento de responsabilidad del sector público. La segunda alternativa es la adoptada por la Coordinación de Concesiones del Ministerio de Obras Públi -Acción 1.2.1Inventario de humedales urbanos y periur - banos de Valdivia Este proyecto' metadata={'source': 'PLAN+DE+VALDIVIA+27-05.pdf'}\n",
      "page_content='Chuyaca. Es de necesidad poco ménos urjente i debe servir para comuni- car con Osorno al vecindario que tiene a la parte del E., el cual es aislado en el invierno por el mismo rio de las Damas, que por allí tambien ciñe a la poblacion. Se cuenta en gran parte para esta obra con los auxilios que han ofrecido los vecinos. No será tan pronto posible a aq uella municipalidad el atender a todos los gastos urjentes de su instituto con sus actuales entra- das. Estas se reducen a lo que produce el impuesto de un real — 49 — sobre cada barril de chicha que se trabaja en el departamento, producto que cuando mas no excede de 400 a 500 pesos, a los ré- ditos de 1800 pesos que tiene puest os a interes, al remate del bal- seo del Trumag que suele rendir hasta setenta, i a los arriendos de algunos pequeños fundos que importan sumas insignificantes. Con estos fondos i los eventuales del ramo de multas, tiene que hacer frente a la manutencion de sus presos, al pago de un pre- ceptor para la única' metadata={'source': '983.5SAN1925.pdf'}\n",
      "page_content='verificar que la zona compuesta por poblaciones emblemáticas, como la Corvi, Inés de Suárez, Los Jazmines, Menzel, San Pedro, Pablo Neruda y Yañez Zabala, ha sido identi - ficada como la de mayor vulnerabilidad social y deterioro urbano 64. En el oeste de esta zona se encuentran también varios humedales ur - banos, que se integran a la trama urbana y que generan bienes y servicios ambientales para el conjunto de la ciudad. Actualmente, estos humedales se hallan amenazados y muchos son usados como microbasurales. Estos ecosis - temas requieren de un esfuerzo intersectorial para una mejor conservación, integración y diálogo con el entorno construido. La intervención integrada que se plantea busca dotar al sector de una visión de conjunto y una estrategia global de largo plazo, que integre los distintos proyectos ya planteados y nuevas ac - ciones de corto y mediano plazo en las dimen - siones físico-ambiental, social, e institucional. 260 261 VALDIVIA SOSTENIBLE / PLAN DE ACCIÓN' metadata={'source': 'PLAN+DE+VALDIVIA+27-05.pdf'}\n",
      "page_content='es reconvertir su funcionalidad hacia un tráfico de carácter mixto (peatonal y motorizado), re - duciendo las pistas vehiculares de tres a dos e incrementando con ello el espacio destinado a peatones. El monto estimado para este proyec - to es US$206.667 para diseño y US$10.833.333 para ejecución. reativa, turística y transporte de pasajeros y carga. Esto permitirá a su vez estimular el desarrollo de la industria naval y el turismo, in - dustrias en las que Valdivia cuenta con grandes potencialidades. Será necesario desarrollar la infraestructura de embarcaderos y, continuar con el dragado en puntos de embancamiento. Uno de los proyectos más emblemáticos de esta nueva visión de ciudad fluvial integrada al río, es el ya mencionado sistema de transporte público mediante lanchas solares (TFS). Acción 1.5.1 Plan Maestro de Desarrollo Fluvial Se plantea la elaboración de un plan maestro de desarrollo fluvial que garantice la planifi - cación territorial y el desarrollo urbanístico' metadata={'source': 'PLAN+DE+VALDIVIA+27-05.pdf'}\n",
      "page_content='cada instan te estiende uno la vista por sus recodos, esperando que se le presente alguna bella alquería; pero esta esperanza es inútil; i apenas si una o dos miserables cabañas interrumpen el verde cortinaje que, en un espacio de cuatro le- guas, se levanta de uno i otro lado de las aguas, desde el puerto hasta Valdivia. «Los techos de madera de esta capital vienen al fin a ofrecer alguna variedad a la vista; pero una sola torre no se ve descollar sobre ellos; i a no ser por la bella casa de campo del ministro de la tesorería, que con una elegancia europea se levanta sobre la ribera, la apariencia esterior de las demás habitaciones no haría presumir mui bien de las proporciones de estos habitantes. Con- tribuyó también sin duda a la tris teza, que nos inspiró el primer aspecto, el tiempo lluvioso en que llegamos, i que ha prosegui- do con interrupciones brevísimas hasta ahora. «Al día siguiente, me recibi del mando, según Usted verá por la nota oficial que le dirijo; i desde luego' metadata={'source': '983.5SAN1925.pdf'}\n",
      "page_content='luego que se planteó el pueblo. Aun quedan muchos sin re- partir. Tiene de entradas el derecho de la chicha de manzana, que con- siste en un real por cada barril que se hace de este licor. Cada año produce este ramo en remate 350 a 400 pesos. No tiene crédito activo alguno ni tampoco capitales a censo, ni reconoce deuda alguna en su contra. El ramo de multas en el año 1842 ascendió a cuarenta pesos i se aplicaron a la composicion de caminos. Tiene un tesorero a cuyo cargo está la Tesorería municipal i que guardando el orden que está mandado observar por supremo decreto para la formacion de sus cuentas i libros, cuida de la re- caudacion conforme a las órdenes que recibe de la Municipalidad. Lo mismo se observa para la administracion e inversion de los fondos. El Tesorero tiene afianzado su manejo. Los gastos ordinarios i anuales de la Municipalidad son: la ma- nutencion de presos que el año an terior ascendió a 115 pesos, el sueldo de 60 pesos a un portero que sirve tambien al juez de' metadata={'source': '983.5SAN1925.pdf'}\n"
     ]
    }
   ],
   "source": [
    "# Ahora db contiene los documentos indexados de los PDFs, puedes hacer consultas sobre ellos\n",
    "# Ejemplo de consulta:\n",
    "query = \"Si quiero ir para miraflores que micro debo tomar?\"\n",
    "results = db.similarity_search(query, k=10)  # Limita los resultados a 10 documentos más similares\n",
    "\n",
    "# Mostrar los resultados\n",
    "print(f\"Resultados para la consulta '{query}':\")\n",
    "for result in results:\n",
    "    print(result)"
   ]
  },
  {
   "cell_type": "markdown",
   "id": "305f7b0f-f132-41f6-b9c1-e13827f45595",
   "metadata": {},
   "source": [
    "## RAG con ChatGPT"
   ]
  },
  {
   "cell_type": "code",
   "execution_count": 9,
   "id": "84496316-9c99-46d5-b8c1-a27edce20d90",
   "metadata": {},
   "outputs": [
    {
     "name": "stdout",
     "output_type": "stream",
     "text": [
      "Para llegar a Miraflores en Valdivia, tienes varias opciones de transporte público que puedes considerar. La micro que te conviene tomar es la que tiene la ruta que conecta con esa zona específica. Generalmente, las micros que circulan por la ciudad tienen sus paradas claramente señalizadas, así que te recomiendo que busques la información en el paradero más cercano o preguntes a los conductores sobre la ruta.\n",
      "\n",
      "Además, ten en cuenta que el sistema de transporte público está en desarrollo y se están implementando nuevas conexiones y muelles para enriquecer la movilidad en la ciudad. Así que siempre es una buena idea consultar con los usuarios locales o revisar aplicaciones de transporte que puedan ofrecer información actualizada sobre las rutas disponibles y los horarios.\n",
      "\n",
      "Recuerda también que puedes disfrutar de las bellezas del paisaje valdiviano durante el trayecto, ya que la ciudad está rodeada de naturaleza y ríos que hacen de tu viaje una experiencia más placentera. ¡Buen viaje!\n"
     ]
    }
   ],
   "source": [
    "# Concatenar los resultados obtenidos por ChromaDB en un formato apropiado\n",
    "context = \"\\n\".join([result.page_content for result in results])\n",
    "\n",
    "# Configuramos el cliente de OpenAI con la clave API\n",
    "chatgpt = openai.OpenAI(api_key=api_key)\n",
    "    \n",
    "# Crear el prompt para GPT-4\n",
    "prompt = f\"Eres un recomendador de lugares de la ciudad de valdivia, chile , Genera una respuesta a la pregunta siguiente : {query}:\\n\\n\"\n",
    "prompt += f\"Datos de contexto: {context}\"\n",
    "\n",
    "# Hacemos la consulta a ChatGPT\n",
    "chat_completion = chatgpt.chat.completions.create(\n",
    "        messages=[\n",
    "            {\n",
    "                \"role\": \"user\",\n",
    "                \"content\": prompt,  # Aquí enviamos el prompt modificado\n",
    "            }\n",
    "        ],\n",
    "        model=\"gpt-4o-mini\",  # Modelo que quieres usar\n",
    "    )\n",
    "    \n",
    "# Obtener la reseña generada por GPT-4\n",
    "respuesta = chat_completion.choices[0].message.content\n",
    "print(respuesta)"
   ]
  },
  {
   "cell_type": "markdown",
   "id": "375d6082-3374-4dbd-8907-8f09db7b2067",
   "metadata": {},
   "source": [
    "## Refactorización para tener una función"
   ]
  },
  {
   "cell_type": "code",
   "execution_count": 9,
   "id": "0430db57-11d6-4a83-a49e-0999bc85b869",
   "metadata": {},
   "outputs": [],
   "source": [
    "# Función para obtener respuesta de GPT-4 basada en los documentos indexados\n",
    "def obtener_respuesta(query, db, api_key, k=10):\n",
    "    # Obtener los resultados más relevantes desde la base de datos ChromaDB\n",
    "    results = db.similarity_search(query, k=k)  # Limita los resultados a 'k' documentos más similares\n",
    "\n",
    "    # Concatenar los resultados obtenidos por ChromaDB en un formato apropiado\n",
    "    context = \"\\n\".join([result.page_content for result in results])\n",
    "\n",
    "    # Configuramos el cliente de OpenAI con la clave API\n",
    "    chatgpt = openai.OpenAI(api_key=api_key)\n",
    "\n",
    "\n",
    "    # Crear el prompt para GPT-4\n",
    "    prompt = f\"Genera una respuesta a la pregunta siguiente: {query}:\\n\\n\"\n",
    "    prompt += f\"Datos de contexto: {context}\"\n",
    "    \n",
    "    # Hacemos la consulta a ChatGPT\n",
    "    chat_completion = chatgpt.chat.completions.create(\n",
    "        messages=[\n",
    "            {\n",
    "                \"role\": \"user\",\n",
    "                \"content\": prompt,  # Aquí enviamos el prompt modificado\n",
    "            }\n",
    "        ],\n",
    "        model=\"gpt-4o-mini\",  # Modelo que quieres usar\n",
    "    )\n",
    "    # Obtener la reseña generada por GPT-4\n",
    "    respuesta = chat_completion.choices[0].message.content\n",
    "    return respuesta"
   ]
  },
  {
   "cell_type": "code",
   "execution_count": 15,
   "id": "c89893d2-b96c-4409-8c2f-9819e0a9f9c1",
   "metadata": {},
   "outputs": [
    {
     "name": "stdout",
     "output_type": "stream",
     "text": [
      "El último día para ingresar las calificaciones del segundo semestre 2024 es el **30 de diciembre de 2024**. Es importante que todas las unidades académicas realicen este ingreso a tiempo para asegurar una buena gestión académica.\n"
     ]
    }
   ],
   "source": [
    "# Llamar a la función con una nueva pregunta\n",
    "query = \"¿Cuándo es el último día para ingresar las calificaciones al segundo semestre?\"\n",
    "respuesta = obtener_respuesta(query, db, api_key)\n",
    "\n",
    "# Mostrar la respuesta\n",
    "print(respuesta)"
   ]
  },
  {
   "cell_type": "code",
   "execution_count": 11,
   "id": "ea06bcd9-fac5-4878-8b5d-3ec2494447a6",
   "metadata": {},
   "outputs": [
    {
     "name": "stdout",
     "output_type": "stream",
     "text": [
      "El monto total de las remuneraciones de los académicos en 2024 es de M$ 49.191.161. Esto incluye M$ 39.078.240 en remuneraciones a académicos y M$ 2.527.918 en honorarios académicos.\n"
     ]
    }
   ],
   "source": [
    "# Llamar a la función con una nueva pregunta\n",
    "query = \"¿Cuándo es el monto de las remuneraciones de los académicos en 2024? Respuesta corta\"\n",
    "respuesta = obtener_respuesta(query, db, api_key)\n",
    "\n",
    "# Mostrar la respuesta\n",
    "print(respuesta)"
   ]
  },
  {
   "cell_type": "code",
   "execution_count": 12,
   "id": "4bc9ea53-5158-4ba0-9bf7-95612d06f9cf",
   "metadata": {},
   "outputs": [
    {
     "name": "stdout",
     "output_type": "stream",
     "text": [
      "Las obligaciones de los estudiantes de la Corporación incluyen: respetar las normas éticas, legales y reglamentarias de la Universidad; mantener conductas de respeto y tolerancia en el ámbito académico; contribuir al desarrollo y prestigio de la institución; preservar su patrimonio moral y material; y esforzarse en su formación y desarrollo personal, científico y cultural. Además, deben actuar con honestidad en todas sus actividades académicas y pueden ser sancionados por faltas graves, menos graves o leves en caso de incumplimiento.\n"
     ]
    }
   ],
   "source": [
    "# Llamar a la función con una nueva pregunta\n",
    "query = \"¿Cuáles son las obligaciones de los estudiantes? Respuesta corta\"\n",
    "respuesta = obtener_respuesta(query, db, api_key)\n",
    "\n",
    "# Mostrar la respuesta\n",
    "print(respuesta)"
   ]
  },
  {
   "cell_type": "code",
   "execution_count": null,
   "id": "1c4884c9-b426-48a4-8eed-167cbab73990",
   "metadata": {},
   "outputs": [],
   "source": []
  }
 ],
 "metadata": {
  "kernelspec": {
   "display_name": "sitiorama_api",
   "language": "python",
   "name": "python3"
  },
  "language_info": {
   "codemirror_mode": {
    "name": "ipython",
    "version": 3
   },
   "file_extension": ".py",
   "mimetype": "text/x-python",
   "name": "python",
   "nbconvert_exporter": "python",
   "pygments_lexer": "ipython3",
   "version": "3.9.21"
  }
 },
 "nbformat": 4,
 "nbformat_minor": 5
}
